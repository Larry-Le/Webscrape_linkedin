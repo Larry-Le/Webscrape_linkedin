{
 "cells": [
  {
   "cell_type": "code",
   "execution_count": 14,
   "metadata": {},
   "outputs": [
    {
     "name": "stdout",
     "output_type": "stream",
     "text": [
      "- Finish importing packages\n"
     ]
    }
   ],
   "source": [
    "# Import libraries and packages for the project \n",
    "\n",
    "from selenium import webdriver\n",
    "from selenium.webdriver.common.keys import Keys\n",
    "from selenium.webdriver.common.by import By\n",
    "from bs4 import BeautifulSoup\n",
    "from time import sleep\n",
    "import csv\n",
    "\n",
    "print('- Finish importing packages')"
   ]
  },
  {
   "cell_type": "code",
   "execution_count": 15,
   "metadata": {},
   "outputs": [
    {
     "name": "stdout",
     "output_type": "stream",
     "text": [
      "- Finish initializing a driver\n"
     ]
    }
   ],
   "source": [
    "# Task 1: Login to Linkedin\n",
    "\n",
    "# Task 1.1: Open Chrome and Access Linkedin login site\n",
    "driver = webdriver.Chrome()\n",
    "sleep(2)\n",
    "url = 'https://www.linkedin.com/login'\n",
    "driver.get(url)\n",
    "print('- Finish initializing a driver')\n",
    "sleep(2)"
   ]
  },
  {
   "cell_type": "code",
   "execution_count": 5,
   "metadata": {},
   "outputs": [
    {
     "data": {
      "text/plain": [
       "'/Users/lexinyi/Downloads'"
      ]
     },
     "execution_count": 5,
     "metadata": {},
     "output_type": "execute_result"
    }
   ],
   "source": [
    "import os\n",
    "os.getcwd()"
   ]
  },
  {
   "cell_type": "code",
   "execution_count": 16,
   "metadata": {},
   "outputs": [
    {
     "name": "stdout",
     "output_type": "stream",
     "text": [
      "- Finish importing the login credentials\n"
     ]
    }
   ],
   "source": [
    "# Task 1.2: Import username and password\n",
    "credential = open('credentials.txt')\n",
    "line = credential.readlines()\n",
    "username = line[0]\n",
    "password = line[1]\n",
    "print('- Finish importing the login credentials')\n",
    "sleep(2)"
   ]
  },
  {
   "cell_type": "code",
   "execution_count": 17,
   "metadata": {},
   "outputs": [
    {
     "name": "stdout",
     "output_type": "stream",
     "text": [
      "- Finish keying in email\n"
     ]
    }
   ],
   "source": [
    "# Task 1.2: Key in login credentials\n",
    "email_field = driver.find_element(By.ID, 'username')\n",
    "email_field.send_keys(username)\n",
    "print('- Finish keying in email')\n",
    "sleep(3)"
   ]
  },
  {
   "cell_type": "code",
   "execution_count": 18,
   "metadata": {},
   "outputs": [
    {
     "name": "stdout",
     "output_type": "stream",
     "text": [
      "- Finish keying in password\n"
     ]
    }
   ],
   "source": [
    "password_field = driver.find_element(By.NAME, 'session_password')\n",
    "password_field.send_keys(password)\n",
    "print('- Finish keying in password')\n",
    "sleep(2)"
   ]
  },
  {
   "cell_type": "code",
   "execution_count": 19,
   "metadata": {},
   "outputs": [
    {
     "name": "stdout",
     "output_type": "stream",
     "text": [
      "- Finish Task 1: Login to Linkedin\n"
     ]
    }
   ],
   "source": [
    "# Task 1.2: Click the Login button\n",
    "signin_field = driver.find_element(By.XPATH, '//*[@id=\"organic-div\"]/form/div[3]/button')\n",
    "\n",
    "signin_field.click()\n",
    "sleep(3)\n",
    "\n",
    "print('- Finish Task 1: Login to Linkedin')"
   ]
  },
  {
   "cell_type": "code",
   "execution_count": 20,
   "metadata": {},
   "outputs": [
    {
     "name": "stdout",
     "output_type": "stream",
     "text": [
      "- Finish Task 2: Search for profiles\n"
     ]
    }
   ],
   "source": [
    "# Task 2: Search for the profile we want to crawl\n",
    "\n",
    "# Task 2.1: Locate the search bar element\n",
    "search_field = driver.find_element(By.XPATH, '//*[@id=\"global-nav-typeahead\"]/input')\n",
    "# //*[@id=\"global-nav-typeahead\"]/input\n",
    "\n",
    "# Task 2.2: Input the search query to the search bar\n",
    "# search_query = input('What profile do you want to scrape? ')\n",
    "search_query = 'Wenqing Ma'\n",
    "search_field.send_keys(search_query)\n",
    "\n",
    "# Task 2.3: Search\n",
    "search_field.send_keys(Keys.RETURN)\n",
    "\n",
    "print('- Finish Task 2: Search for profiles')"
   ]
  },
  {
   "cell_type": "code",
   "execution_count": 30,
   "metadata": {},
   "outputs": [
    {
     "data": {
      "text/plain": [
       "['https://www.linkedin.com/in/ACoAACaywCAB1MeHCO7zo2OsUHQAM94He7TPals?miniProfileUrn=urn%3Ali%3Afs_miniProfile%3AACoAACaywCAB1MeHCO7zo2OsUHQAM94He7TPals',\n",
       " 'https://www.linkedin.com/in/wenqing-coco-ma-267b7a188?miniProfileUrn=urn%3Ali%3Afs_miniProfile%3AACoAACxPv-8BZDSRGxvdbraDuTC3YmPZ494KXh8',\n",
       " 'https://www.linkedin.com/in/wenqing-ma-0a3104220?miniProfileUrn=urn%3Ali%3Afs_miniProfile%3AACoAADeLZ3sBRjtqjEcBg4FpD9OTl2mTxzWSKDA',\n",
       " 'https://www.linkedin.com/in/wenqing-ma-35886067?miniProfileUrn=urn%3Ali%3Afs_miniProfile%3AACoAAA4vt_QB4kJSId3ftoi1d-TgfqrTQHSPLcI',\n",
       " 'https://www.linkedin.com/in/wenqing-ma-54aa5174?miniProfileUrn=urn%3Ali%3Afs_miniProfile%3AACoAAA_RFsoBRteRHChH0-4xoV6uR-63aojQxs0',\n",
       " 'https://www.linkedin.com/in/wenqing-ma-6250a1b2?miniProfileUrn=urn%3Ali%3Afs_miniProfile%3AACoAABfclD0BqKLXa5qr8qJLuIN4lU48Z5_5jH4',\n",
       " 'https://www.linkedin.com/in/wenqingkevinma?miniProfileUrn=urn%3Ali%3Afs_miniProfile%3AACoAACHyuhEBJXT58J0b5SPEZ-UDgLmpENgQK80',\n",
       " 'https://www.linkedin.com/in/wenqing-ma?miniProfileUrn=urn%3Ali%3Afs_miniProfile%3AACoAACib7tcBl4xYl-7NkPBtnYg5HEuy2k53sRk',\n",
       " 'https://www.linkedin.com/in/wenqing-ma-6415a5181?miniProfileUrn=urn%3Ali%3Afs_miniProfile%3AACoAACr621EBosja78OT4MsI_8Qj4z8xSjfiJuo',\n",
       " 'https://www.linkedin.com/in/wenqingma?miniProfileUrn=urn%3Ali%3Afs_miniProfile%3AACoAACG7yfsBbLM2Gvq7FPMe_5QsjMPTOb84LnU',\n",
       " 'https://www.linkedin.com/in/ACoAAADN9v0BX6_rf9imy9Bexj3zIkYbY5mWlV0?miniProfileUrn=urn%3Ali%3Afs_miniProfile%3AACoAAADN9v0BX6_rf9imy9Bexj3zIkYbY5mWlV0',\n",
       " 'https://www.linkedin.com/in/wenqing-ma-410311a7?miniProfileUrn=urn%3Ali%3Afs_miniProfile%3AACoAABamLgwBrM_j-wkcS93MVJb_jKDbbWorEig']"
      ]
     },
     "execution_count": 30,
     "metadata": {},
     "output_type": "execute_result"
    }
   ],
   "source": [
    "page_source = BeautifulSoup(driver.page_source)\n",
    "profiles = page_source.find_all('a', class_ = 'app-aware-link')\n",
    "all_profile_URL = []\n",
    "for profile in profiles:\n",
    "    profile_ID = profile.get('href')\n",
    "    profile_URL = profile_ID\n",
    "    if profile_URL not in all_profile_URL:\n",
    "        all_profile_URL.append(profile_URL)\n",
    "all_profile_URL = list(set([x for x in all_profile_URL if x.startswith('https://www.linkedin.com/in')]))\n",
    "all_profile_URL"
   ]
  },
  {
   "cell_type": "code",
   "execution_count": 31,
   "metadata": {},
   "outputs": [],
   "source": [
    "# Task 3: Scrape the URLs of the profiles\n",
    "\n",
    "# Task 3.1: Write a function to extract the URLs of one page\n",
    "def GetURL():\n",
    "    page_source = BeautifulSoup(driver.page_source)\n",
    "    profiles = page_source.find_all('a', class_ = 'app-aware-link')\n",
    "    all_profile_URL = []\n",
    "    for profile in profiles:\n",
    "        profile_ID = profile.get('href')\n",
    "        profile_URL = profile_ID\n",
    "        if profile_URL not in all_profile_URL:\n",
    "            all_profile_URL.append(profile_URL)\n",
    "    all_profile_URL = list(set([x for x in all_profile_URL if x.startswith('https://www.linkedin.com/in')]))\n",
    "    return all_profile_URL"
   ]
  },
  {
   "cell_type": "code",
   "execution_count": 33,
   "metadata": {},
   "outputs": [
    {
     "name": "stdout",
     "output_type": "stream",
     "text": [
      "- Finish Task 3: Scrape the URLs\n"
     ]
    }
   ],
   "source": [
    "\n",
    "\n",
    "# Task 3.2: Navigate through many page, and extract the profile URLs of each page\n",
    "\n",
    "input_page = int(input('How many pages you want to scrape: '))\n",
    "URLs_all_page = []\n",
    "for page in range(input_page):\n",
    "    URLs_one_page = GetURL()\n",
    "    sleep(2)\n",
    "    driver.execute_script('window.scrollTo(0, document.body.scrollHeight);') #scroll to the end of the page\n",
    "    sleep(3)\n",
    "    next_button = driver.find_element(By.CLASS_NAME, \"artdeco-pagination__button--next\")\n",
    "    driver.execute_script(\"arguments[0].click();\", next_button)\n",
    "    URLs_all_page = URLs_all_page + URLs_one_page\n",
    "    sleep(2)\n",
    "\n",
    "print('- Finish Task 3: Scrape the URLs')"
   ]
  },
  {
   "cell_type": "code",
   "execution_count": 35,
   "metadata": {},
   "outputs": [
    {
     "data": {
      "text/plain": [
       "['https://www.linkedin.com/in/ACoAACaywCAB1MeHCO7zo2OsUHQAM94He7TPals?miniProfileUrn=urn%3Ali%3Afs_miniProfile%3AACoAACaywCAB1MeHCO7zo2OsUHQAM94He7TPals',\n",
       " 'https://www.linkedin.com/in/wenqing-coco-ma-267b7a188?miniProfileUrn=urn%3Ali%3Afs_miniProfile%3AACoAACxPv-8BZDSRGxvdbraDuTC3YmPZ494KXh8',\n",
       " 'https://www.linkedin.com/in/wenqing-ma-0a3104220?miniProfileUrn=urn%3Ali%3Afs_miniProfile%3AACoAADeLZ3sBRjtqjEcBg4FpD9OTl2mTxzWSKDA',\n",
       " 'https://www.linkedin.com/in/wenqing-ma-35886067?miniProfileUrn=urn%3Ali%3Afs_miniProfile%3AACoAAA4vt_QB4kJSId3ftoi1d-TgfqrTQHSPLcI',\n",
       " 'https://www.linkedin.com/in/wenqing-ma-54aa5174?miniProfileUrn=urn%3Ali%3Afs_miniProfile%3AACoAAA_RFsoBRteRHChH0-4xoV6uR-63aojQxs0',\n",
       " 'https://www.linkedin.com/in/wenqing-ma-6250a1b2?miniProfileUrn=urn%3Ali%3Afs_miniProfile%3AACoAABfclD0BqKLXa5qr8qJLuIN4lU48Z5_5jH4',\n",
       " 'https://www.linkedin.com/in/wenqingkevinma?miniProfileUrn=urn%3Ali%3Afs_miniProfile%3AACoAACHyuhEBJXT58J0b5SPEZ-UDgLmpENgQK80',\n",
       " 'https://www.linkedin.com/in/wenqing-ma?miniProfileUrn=urn%3Ali%3Afs_miniProfile%3AACoAACib7tcBl4xYl-7NkPBtnYg5HEuy2k53sRk',\n",
       " 'https://www.linkedin.com/in/wenqing-ma-6415a5181?miniProfileUrn=urn%3Ali%3Afs_miniProfile%3AACoAACr621EBosja78OT4MsI_8Qj4z8xSjfiJuo',\n",
       " 'https://www.linkedin.com/in/wenqingma?miniProfileUrn=urn%3Ali%3Afs_miniProfile%3AACoAACG7yfsBbLM2Gvq7FPMe_5QsjMPTOb84LnU',\n",
       " 'https://www.linkedin.com/in/ACoAAADN9v0BX6_rf9imy9Bexj3zIkYbY5mWlV0?miniProfileUrn=urn%3Ali%3Afs_miniProfile%3AACoAAADN9v0BX6_rf9imy9Bexj3zIkYbY5mWlV0',\n",
       " 'https://www.linkedin.com/in/wenqing-ma-410311a7?miniProfileUrn=urn%3Ali%3Afs_miniProfile%3AACoAABamLgwBrM_j-wkcS93MVJb_jKDbbWorEig',\n",
       " 'https://www.linkedin.com/in/wenqing-ma-912802232?miniProfileUrn=urn%3Ali%3Afs_miniProfile%3AACoAADoj0p4BIrVoI3DV8bawG6tgXpXMzcGmv5E',\n",
       " 'https://www.linkedin.com/in/%E6%96%87%E5%8D%BF-%E9%A9%AC-2ab735b4?miniProfileUrn=urn%3Ali%3Afs_miniProfile%3AACoAABhQKmMBjtM2m88ERkBLBfRyAR9guCt_0mY',\n",
       " 'https://www.linkedin.com/in/wen-qing-ma-3995a31a7?miniProfileUrn=urn%3Ali%3Afs_miniProfile%3AACoAADBRrGUBrugl_jM8NUmUkowasndl188SomA',\n",
       " 'https://www.linkedin.com/in/wen-qing-ma-1459007?miniProfileUrn=urn%3Ali%3Afs_miniProfile%3AACoAAAFhHMUBlXrkQUDGb_XcrZZ98g0XUiC92Eg',\n",
       " 'https://www.linkedin.com/in/wenqing-ma-93229b60?miniProfileUrn=urn%3Ali%3Afs_miniProfile%3AACoAAAzbQHYBpM3JUtb5nrQYkPFHrmdpCgEJtnU']"
      ]
     },
     "execution_count": 35,
     "metadata": {},
     "output_type": "execute_result"
    }
   ],
   "source": [
    "URLs_all_page"
   ]
  },
  {
   "cell_type": "code",
   "execution_count": 41,
   "metadata": {},
   "outputs": [
    {
     "name": "stdout",
     "output_type": "stream",
     "text": [
      "- Accessing profile:  https://www.linkedin.com/in/ACoAACaywCAB1MeHCO7zo2OsUHQAM94He7TPals?miniProfileUrn=urn%3Ali%3Afs_miniProfile%3AACoAACaywCAB1MeHCO7zo2OsUHQAM94He7TPals\n",
      "--- Profile name is:  Yuting T.\n",
      "--- Profile title is:  Graduate researcher\n",
      "\n",
      "\n",
      "- Accessing profile:  https://www.linkedin.com/in/wenqing-coco-ma-267b7a188?miniProfileUrn=urn%3Ali%3Afs_miniProfile%3AACoAACxPv-8BZDSRGxvdbraDuTC3YmPZ494KXh8\n",
      "--- Profile name is:  Wenqing (Coco) Ma\n",
      "--- Profile title is:  Financial Analyst at FairVentures\n",
      "\n",
      "\n",
      "- Accessing profile:  https://www.linkedin.com/in/wenqing-ma-0a3104220?miniProfileUrn=urn%3Ali%3Afs_miniProfile%3AACoAADeLZ3sBRjtqjEcBg4FpD9OTl2mTxzWSKDA\n",
      "--- Profile name is:  Wenqing Ma\n",
      "--- Profile title is:  Rhode Island School of Design Student\n",
      "\n",
      "\n",
      "- Accessing profile:  https://www.linkedin.com/in/wenqing-ma-35886067?miniProfileUrn=urn%3Ali%3Afs_miniProfile%3AACoAAA4vt_QB4kJSId3ftoi1d-TgfqrTQHSPLcI\n",
      "--- Profile name is:  Wenqing Ma\n",
      "\n",
      "\n",
      "     (She/Her)\n",
      "--- Profile title is:  Data Scientist | Strategic Consultant\n",
      "\n",
      "\n",
      "- Accessing profile:  https://www.linkedin.com/in/wenqing-ma-54aa5174?miniProfileUrn=urn%3Ali%3Afs_miniProfile%3AACoAAA_RFsoBRteRHChH0-4xoV6uR-63aojQxs0\n",
      "--- Profile name is:  Wenqing Ma\n",
      "--- Profile title is:  --\n",
      "\n",
      "\n",
      "- Accessing profile:  https://www.linkedin.com/in/wenqing-ma-6250a1b2?miniProfileUrn=urn%3Ali%3Afs_miniProfile%3AACoAABfclD0BqKLXa5qr8qJLuIN4lU48Z5_5jH4\n",
      "--- Profile name is:  Wenqing Ma\n",
      "--- Profile title is:  Android Developer\n",
      "\n",
      "\n",
      "- Accessing profile:  https://www.linkedin.com/in/wenqingkevinma?miniProfileUrn=urn%3Ali%3Afs_miniProfile%3AACoAACHyuhEBJXT58J0b5SPEZ-UDgLmpENgQK80\n",
      "--- Profile name is:  Wenqing Kevin Ma\n",
      "--- Profile title is:  Specialist QC Services / Hobby Full Stack Developer\n",
      "\n",
      "\n",
      "- Accessing profile:  https://www.linkedin.com/in/wenqing-ma?miniProfileUrn=urn%3Ali%3Afs_miniProfile%3AACoAACib7tcBl4xYl-7NkPBtnYg5HEuy2k53sRk\n",
      "--- Profile name is:  WENQING MA\n",
      "--- Profile title is:  Financial Mathematics/Accounting/Real Estate/Financial Derivatives/Statistic Management\n",
      "\n",
      "\n",
      "- Accessing profile:  https://www.linkedin.com/in/wenqing-ma-6415a5181?miniProfileUrn=urn%3Ali%3Afs_miniProfile%3AACoAACr621EBosja78OT4MsI_8Qj4z8xSjfiJuo\n",
      "--- Profile name is:  Wenqing Ma\n",
      "--- Profile title is:  Graphic Designer / Illustrator  | Rhode Island School of Design 25'\n",
      "\n",
      "\n",
      "- Accessing profile:  https://www.linkedin.com/in/wenqingma?miniProfileUrn=urn%3Ali%3Afs_miniProfile%3AACoAACG7yfsBbLM2Gvq7FPMe_5QsjMPTOb84LnU\n",
      "--- Profile name is:  马文清 (wenqing ma)\n",
      "--- Profile title is:  学生 - 美国亚利桑那州立大学\n",
      "\n",
      "\n",
      "- Accessing profile:  https://www.linkedin.com/in/ACoAAADN9v0BX6_rf9imy9Bexj3zIkYbY5mWlV0?miniProfileUrn=urn%3Ali%3Afs_miniProfile%3AACoAAADN9v0BX6_rf9imy9Bexj3zIkYbY5mWlV0\n",
      "--- Profile name is:  Maria Van Kerkhove\n",
      "--- Profile title is:  World Health Organization\n",
      "\n",
      "\n",
      "- Accessing profile:  https://www.linkedin.com/in/wenqing-ma-410311a7?miniProfileUrn=urn%3Ali%3Afs_miniProfile%3AACoAABamLgwBrM_j-wkcS93MVJb_jKDbbWorEig\n",
      "--- Profile name is:  Wenqing (Qing) Ma\n",
      "--- Profile title is:  Technoeconomics and Management\n",
      "\n",
      "\n",
      "- Accessing profile:  https://www.linkedin.com/in/wenqing-ma-912802232?miniProfileUrn=urn%3Ali%3Afs_miniProfile%3AACoAADoj0p4BIrVoI3DV8bawG6tgXpXMzcGmv5E\n",
      "--- Profile name is:  Wenqing Ma\n",
      "--- Profile title is:  --\n",
      "\n",
      "\n",
      "- Accessing profile:  https://www.linkedin.com/in/%E6%96%87%E5%8D%BF-%E9%A9%AC-2ab735b4?miniProfileUrn=urn%3Ali%3Afs_miniProfile%3AACoAABhQKmMBjtM2m88ERkBLBfRyAR9guCt_0mY\n",
      "--- Profile name is:  Wenky (Wenky) Ma\n",
      "--- Profile title is:  国际教育发展高级经理\n",
      "\n",
      "\n",
      "- Accessing profile:  https://www.linkedin.com/in/wen-qing-ma-3995a31a7?miniProfileUrn=urn%3Ali%3Afs_miniProfile%3AACoAADBRrGUBrugl_jM8NUmUkowasndl188SomA\n",
      "--- Profile name is:  Wen qing Ma\n",
      "--- Profile title is:  学生 - 景栋中文会话培训中心\n",
      "\n",
      "\n",
      "- Accessing profile:  https://www.linkedin.com/in/wen-qing-ma-1459007?miniProfileUrn=urn%3Ali%3Afs_miniProfile%3AACoAAAFhHMUBlXrkQUDGb_XcrZZ98g0XUiC92Eg\n",
      "--- Profile name is:  Wen Qing Ma\n",
      "--- Profile title is:  Animation Professional\n",
      "\n",
      "\n",
      "- Accessing profile:  https://www.linkedin.com/in/wenqing-ma-93229b60?miniProfileUrn=urn%3Ali%3Afs_miniProfile%3AACoAAAzbQHYBpM3JUtb5nrQYkPFHrmdpCgEJtnU\n",
      "--- Profile name is:  wenqing ma\n",
      "--- Profile title is:  E-commerce at QU\n",
      "\n",
      "\n",
      "Mission Completed!\n"
     ]
    }
   ],
   "source": [
    "# Task 4: Scrape the data of 1 Linkedin profile, and write the data to a .CSV file\n",
    "\n",
    "with open('output.csv', 'w',  newline = '') as file_output:\n",
    "    headers = ['Name', 'Job Title', 'Location', 'URL']\n",
    "    writer = csv.DictWriter(file_output, delimiter=',', lineterminator='\\n',fieldnames=headers)\n",
    "    writer.writeheader()\n",
    "    for linkedin_URL in URLs_all_page:\n",
    "        driver.get(linkedin_URL)\n",
    "        print('- Accessing profile: ', linkedin_URL)\n",
    "\n",
    "        page_source = BeautifulSoup(driver.page_source, \"html.parser\")\n",
    "\n",
    "        info_div = page_source.find('div',{'class':'pv-text-details__left-panel'})\n",
    "        info_loc = info_div.find_all('div')\n",
    "        # print(info_loc)\n",
    "        # break\n",
    "        name = info_loc[0].get_text().strip() #Remove unnecessary characters \n",
    "        print('--- Profile name is: ', name)\n",
    "        # location = info_loc[1].find('li').get_text().strip() #Remove unnecessary characters \n",
    "        # print('--- Profile location is: ', location)\n",
    "        title = info_loc[1].get_text().strip()\n",
    "        print('--- Profile title is: ', title)\n",
    "        writer.writerow({headers[0]:name, headers[2]:title, headers[3]:linkedin_URL})\n",
    "        print('\\n')\n",
    "        # break\n",
    "\n",
    "print('Mission Completed!')"
   ]
  },
  {
   "cell_type": "code",
   "execution_count": null,
   "metadata": {},
   "outputs": [],
   "source": []
  }
 ],
 "metadata": {
  "kernelspec": {
   "display_name": "Python 3",
   "language": "python",
   "name": "python3"
  },
  "language_info": {
   "codemirror_mode": {
    "name": "ipython",
    "version": 3
   },
   "file_extension": ".py",
   "mimetype": "text/x-python",
   "name": "python",
   "nbconvert_exporter": "python",
   "pygments_lexer": "ipython3",
   "version": "3.10.12"
  }
 },
 "nbformat": 4,
 "nbformat_minor": 4
}
